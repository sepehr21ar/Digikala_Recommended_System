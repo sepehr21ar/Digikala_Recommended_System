{
 "cells": [
  {
   "cell_type": "markdown",
   "id": "aaeab283efa16ad8",
   "metadata": {},
   "source": [
    "Import"
   ]
  },
  {
   "cell_type": "code",
   "execution_count": 1,
   "id": "initial_id",
   "metadata": {
    "ExecuteTime": {
     "end_time": "2024-10-24T15:18:21.508546Z",
     "start_time": "2024-10-24T15:18:19.276909Z"
    },
    "collapsed": true
   },
   "outputs": [],
   "source": [
    "from sklearn.model_selection import train_test_split\n",
    "from sklearn.metrics import classification_report\n",
    "from sklearn.preprocessing import StandardScaler\n",
    "from sklearn.preprocessing import LabelEncoder\n",
    "from sklearn.tree import DecisionTreeClassifier\n",
    "from sklearn.neural_network import MLPClassifier\n",
    "from sklearn.ensemble import RandomForestClassifier\n",
    "from sklearn.neighbors import NearestNeighbors\n",
    "from sklearn.svm import  SVC\n",
    "from sklearn.model_selection import GridSearchCV\n",
    "from sklearn.metrics import f1_score\n",
    "import matplotlib.pyplot as plt\n",
    "\n",
    "\n",
    "import numpy as np\n",
    "import pandas as pd"
   ]
  },
  {
   "cell_type": "markdown",
   "id": "20a89fb66784f859",
   "metadata": {},
   "source": [
    "Define data types"
   ]
  },
  {
   "cell_type": "code",
   "execution_count": 2,
   "id": "4fee28230a21170",
   "metadata": {
    "ExecuteTime": {
     "end_time": "2024-10-24T15:18:21.515230Z",
     "start_time": "2024-10-24T15:18:21.509549Z"
    }
   },
   "outputs": [],
   "source": [
    "dtype_dict = {\n",
    "    'id': int,\n",
    "    'title_fa': str,\n",
    "    'Rate': float,\n",
    "    'Rate_cnt': int,\n",
    "    'Category1': str,\n",
    "    'Category2': str,\n",
    "    'Brand': str,\n",
    "    'Price': float,\n",
    "    'Seller': str,\n",
    "    'Is_Fake': str,\n",
    "    'min_price_last_month': float,\n",
    "    'sub_category': str\n",
    "}"
   ]
  },
  {
   "cell_type": "markdown",
   "id": "184aa3226b27077c",
   "metadata": {},
   "source": [
    "load data"
   ]
  },
  {
   "cell_type": "code",
   "execution_count": 3,
   "id": "ad64166d104ab3e6",
   "metadata": {
    "ExecuteTime": {
     "end_time": "2024-10-24T15:18:27.158974Z",
     "start_time": "2024-10-24T15:18:21.517296Z"
    }
   },
   "outputs": [],
   "source": [
    "data = pd.read_csv('//workspaces//Digikala_Recommended_System//digikala.csv', dtype=dtype_dict)\n"
   ]
  },
  {
   "cell_type": "code",
   "execution_count": 4,
   "id": "9a2a61040ade4946",
   "metadata": {
    "ExecuteTime": {
     "end_time": "2024-10-24T15:18:27.674512Z",
     "start_time": "2024-10-24T15:18:27.161970Z"
    }
   },
   "outputs": [],
   "source": [
    "\n",
    "data[\"Category1\"] = data[\"Category1\"].astype(str)\n",
    "data[\"Category2\"] = data[\"Category2\"].astype(str)\n",
    "\n",
    "data = data[[ \"id\", \"title_fa\", \"Rate\", \"Rate_cnt\", \"Category1\", \"Category2\", \"Brand\", \"Price\", \"sub_category\" ]]\n",
    "\n",
    "data.fillna(0, inplace=True)"
   ]
  },
  {
   "cell_type": "markdown",
   "id": "72afabcc9ebb663e",
   "metadata": {},
   "source": [
    "Lable encoder"
   ]
  },
  {
   "cell_type": "code",
   "execution_count": 5,
   "id": "e925ac66136f1d9f",
   "metadata": {
    "ExecuteTime": {
     "end_time": "2024-10-24T15:18:28.117411Z",
     "start_time": "2024-10-24T15:18:27.675513Z"
    }
   },
   "outputs": [],
   "source": [
    "label_encoder_cate1 = LabelEncoder()\n",
    "label_encoder_cate2 = LabelEncoder()\n",
    "data['Category1_encoded'] = label_encoder_cate1.fit_transform(data['Category1'])\n",
    "data['Category2_encoded'] = label_encoder_cate2.fit_transform(data['Category2'])"
   ]
  },
  {
   "cell_type": "code",
   "execution_count": 6,
   "id": "1b9374e05fc231a1",
   "metadata": {
    "ExecuteTime": {
     "end_time": "2024-10-24T15:18:28.141908Z",
     "start_time": "2024-10-24T15:18:28.118412Z"
    }
   },
   "outputs": [],
   "source": [
    "features = data[[\"Category1_encoded\", \"Category2_encoded\",\"Price\", \"Rate\"] ] "
   ]
  },
  {
   "cell_type": "code",
   "execution_count": 7,
   "id": "610c32130855d192",
   "metadata": {
    "ExecuteTime": {
     "end_time": "2024-10-24T15:18:28.188400Z",
     "start_time": "2024-10-24T15:18:28.142883Z"
    }
   },
   "outputs": [],
   "source": [
    "titles = data[[\"title_fa\"]]"
   ]
  },
  {
   "cell_type": "code",
   "execution_count": 15,
   "id": "a79dc941eb20ace6",
   "metadata": {
    "ExecuteTime": {
     "end_time": "2024-10-24T15:18:28.197017Z",
     "start_time": "2024-10-24T15:18:28.192395Z"
    }
   },
   "outputs": [],
   "source": [
    "# X_train, X_test, y_train, y_test = train_test_split(features, titles, test_size=0.2, random_state=42)"
   ]
  },
  {
   "cell_type": "markdown",
   "id": "e6c20a7d5ea92c87",
   "metadata": {},
   "source": [
    "visualization\n"
   ]
  },
  {
   "cell_type": "code",
   "execution_count": 8,
   "id": "7f2b7200f72eebec",
   "metadata": {
    "ExecuteTime": {
     "end_time": "2024-10-24T15:18:28.444550Z",
     "start_time": "2024-10-24T15:18:28.200016Z"
    }
   },
   "outputs": [],
   "source": [
    "mean_rates = data.groupby(\"sub_category\")[\"Rate\"].mean()\n",
    "mean_rates2 = data.groupby(\"Category1\")[\"Rate\"].mean()"
   ]
  },
  {
   "cell_type": "code",
   "execution_count": 9,
   "id": "566805b03e3112c6",
   "metadata": {
    "ExecuteTime": {
     "end_time": "2024-10-24T15:18:28.452565Z",
     "start_time": "2024-10-24T15:18:28.447545Z"
    }
   },
   "outputs": [],
   "source": [
    "list_colors = ['blue', 'red', 'green', 'yellow', 'black', 'white']"
   ]
  },
  {
   "cell_type": "code",
   "execution_count": 10,
   "id": "5f6e8f31533f4a91",
   "metadata": {
    "ExecuteTime": {
     "end_time": "2024-10-24T15:18:29.333831Z",
     "start_time": "2024-10-24T15:18:28.453939Z"
    }
   },
   "outputs": [
    {
     "data": {
      "image/png": "[encoded data removed]",
      "text/plain": [
       "<Figure size 1100x700 with 2 Axes>"
      ]
     },
     "metadata": {},
     "output_type": "display_data"
    }
   ],
   "source": [
    "plt.figure(figsize=(11, 7))\n",
    "plt.subplot(1, 2, 1)\n",
    "plt.title(\"Mean Rate per sub_category\")\n",
    "mean_rates.plot(kind='bar',  alpha=0.6)\n",
    "plt.xlabel(\"Sub Category\")\n",
    "plt.ylabel(\"Mean Rate\")\n",
    "plt.xticks()\n",
    "plt.grid(axis='y')\n",
    "plt.subplot(1, 2, 2)\n",
    "mean_rates2.plot(kind='bar', alpha=0.5)\n",
    "plt.xlabel(\"Category 1\")\n",
    "plt.ylabel(\"Mean Rate\")\n",
    "plt.xticks([])\n",
    "plt.grid(axis='y')\n",
    "plt.show()"
   ]
  },
  {
   "cell_type": "markdown",
   "id": "4565134a13c37928",
   "metadata": {},
   "source": [
    "make it standard to show"
   ]
  },
  {
   "cell_type": "code",
   "execution_count": 11,
   "id": "4ace376b9dced95a",
   "metadata": {
    "ExecuteTime": {
     "end_time": "2024-10-24T15:18:29.504732Z",
     "start_time": "2024-10-24T15:18:29.334831Z"
    }
   },
   "outputs": [],
   "source": [
    "colors = plt.cm.viridis(data[\"Rate_cnt\"] / max(data[\"Rate_cnt\"]))\n"
   ]
  },
  {
   "cell_type": "code",
   "execution_count": 12,
   "id": "706134fe3b9fb7cf",
   "metadata": {
    "ExecuteTime": {
     "end_time": "2024-10-24T15:18:51.853310Z",
     "start_time": "2024-10-24T15:18:29.506732Z"
    }
   },
   "outputs": [
    {
     "data": {
      "image/png": "[encoded data removed]",
      "text/plain": [
       "<Figure size 1400x900 with 1 Axes>"
      ]
     },
     "metadata": {},
     "output_type": "display_data"
    }
   ],
   "source": [
    "plt.figure(figsize=(14, 9))\n",
    "plt.scatter(data[\"Rate_cnt\"], data[\"Brand\"], color=colors, edgecolors='black',alpha=0.68)\n",
    "\n",
    "plt.title(\"Brand Distribution  base on number of people who vote\")\n",
    "plt.xlabel(\"rate_cnt\")\n",
    "plt.ylabel(\"Brand\")\n",
    "\n",
    "plt.grid(axis='x')\n",
    "plt.xticks()\n",
    "plt.yticks([])\n",
    "plt.tight_layout()\n",
    "plt.show()"
   ]
  },
  {
   "cell_type": "markdown",
   "id": "ba7b5d2ee135ab92",
   "metadata": {},
   "source": [
    "start working with sklearn"
   ]
  },
  {
   "cell_type": "markdown",
   "id": "27613685b7c5c3ec",
   "metadata": {},
   "source": [
    "Standard scale"
   ]
  },
  {
   "cell_type": "code",
   "execution_count": 13,
   "id": "811ac95725fb2f81",
   "metadata": {
    "ExecuteTime": {
     "end_time": "2024-10-24T15:18:51.998654Z",
     "start_time": "2024-10-24T15:18:51.854312Z"
    }
   },
   "outputs": [],
   "source": [
    "scaler = StandardScaler()\n",
    "features_scaled = scaler.fit_transform(features)\n",
    "# X_test = features_scaled2 = scaler.fit_transform(X_test)"
   ]
  },
  {
   "cell_type": "markdown",
   "id": "4238ccd3e7222a8f",
   "metadata": {},
   "source": [
    "Creat model"
   ]
  },
  {
   "cell_type": "code",
   "execution_count": 14,
   "id": "b6a3c4b44cc36328",
   "metadata": {
    "ExecuteTime": {
     "end_time": "2024-10-24T15:18:53.971700Z",
     "start_time": "2024-10-24T15:18:51.999655Z"
    }
   },
   "outputs": [
    {
     "data": {
      "text/html": [
       "<style>#sk-container-id-1 {\n",
       "  /* Definition of color scheme common for light and dark mode */\n",
       "  --sklearn-color-text: #000;\n",
       "  --sklearn-color-text-muted: #666;\n",
       "  --sklearn-color-line: gray;\n",
       "  /* Definition of color scheme for unfitted estimators */\n",
       "  --sklearn-color-unfitted-level-0: #fff5e6;\n",
       "  --sklearn-color-unfitted-level-1: #f6e4d2;\n",
       "  --sklearn-color-unfitted-level-2: #ffe0b3;\n",
       "  --sklearn-color-unfitted-level-3: chocolate;\n",
       "  /* Definition of color scheme for fitted estimators */\n",
       "  --sklearn-color-fitted-level-0: #f0f8ff;\n",
       "  --sklearn-color-fitted-level-1: #d4ebff;\n",
       "  --sklearn-color-fitted-level-2: #b3dbfd;\n",
       "  --sklearn-color-fitted-level-3: cornflowerblue;\n",
       "\n",
       "  /* Specific color for light theme */\n",
       "  --sklearn-color-text-on-default-background: var(--sg-text-color, var(--theme-code-foreground, var(--jp-content-font-color1, black)));\n",
       "  --sklearn-color-background: var(--sg-background-color, var(--theme-background, var(--jp-layout-color0, white)));\n",
       "  --sklearn-color-border-box: var(--sg-text-color, var(--theme-code-foreground, var(--jp-content-font-color1, black)));\n",
       "  --sklearn-color-icon: #696969;\n",
       "\n",
       "  @media (prefers-color-scheme: dark) {\n",
       "    /* Redefinition of color scheme for dark theme */\n",
       "    --sklearn-color-text-on-default-background: var(--sg-text-color, var(--theme-code-foreground, var(--jp-content-font-color1, white)));\n",
       "    --sklearn-color-background: var(--sg-background-color, var(--theme-background, var(--jp-layout-color0, #111)));\n",
       "    --sklearn-color-border-box: var(--sg-text-color, var(--theme-code-foreground, var(--jp-content-font-color1, white)));\n",
       "    --sklearn-color-icon: #878787;\n",
       "  }\n",
       "}\n",
       "\n",
       "#sk-container-id-1 {\n",
       "  color: var(--sklearn-color-text);\n",
       "}\n",
       "\n",
       "#sk-container-id-1 pre {\n",
       "  padding: 0;\n",
       "}\n",
       "\n",
       "#sk-container-id-1 input.sk-hidden--visually {\n",
       "  border: 0;\n",
       "  clip: rect(1px 1px 1px 1px);\n",
       "  clip: rect(1px, 1px, 1px, 1px);\n",
       "  height: 1px;\n",
       "  margin: -1px;\n",
       "  overflow: hidden;\n",
       "  padding: 0;\n",
       "  position: absolute;\n",
       "  width: 1px;\n",
       "}\n",
       "\n",
       "#sk-container-id-1 div.sk-dashed-wrapped {\n",
       "  border: 1px dashed var(--sklearn-color-line);\n",
       "  margin: 0 0.4em 0.5em 0.4em;\n",
       "  box-sizing: border-box;\n",
       "  padding-bottom: 0.4em;\n",
       "  background-color: var(--sklearn-color-background);\n",
       "}\n",
       "\n",
       "#sk-container-id-1 div.sk-container {\n",
       "  /* jupyter's `normalize.less` sets `[hidden] { display: none; }`\n",
       "     but bootstrap.min.css set `[hidden] { display: none !important; }`\n",
       "     so we also need the `!important` here to be able to override the\n",
       "     default hidden behavior on the sphinx rendered scikit-learn.org.\n",
       "     See: https://github.com/scikit-learn/scikit-learn/issues/21755 */\n",
       "  display: inline-block !important;\n",
       "  position: relative;\n",
       "}\n",
       "\n",
       "#sk-container-id-1 div.sk-text-repr-fallback {\n",
       "  display: none;\n",
       "}\n",
       "\n",
       "div.sk-parallel-item,\n",
       "div.sk-serial,\n",
       "div.sk-item {\n",
       "  /* draw centered vertical line to link estimators */\n",
       "  background-image: linear-gradient(var(--sklearn-color-text-on-default-background), var(--sklearn-color-text-on-default-background));\n",
       "  background-size: 2px 100%;\n",
       "  background-repeat: no-repeat;\n",
       "  background-position: center center;\n",
       "}\n",
       "\n",
       "/* Parallel-specific style estimator block */\n",
       "\n",
       "#sk-container-id-1 div.sk-parallel-item::after {\n",
       "  content: \"\";\n",
       "  width: 100%;\n",
       "  border-bottom: 2px solid var(--sklearn-color-text-on-default-background);\n",
       "  flex-grow: 1;\n",
       "}\n",
       "\n",
       "#sk-container-id-1 div.sk-parallel {\n",
       "  display: flex;\n",
       "  align-items: stretch;\n",
       "  justify-content: center;\n",
       "  background-color: var(--sklearn-color-background);\n",
       "  position: relative;\n",
       "}\n",
       "\n",
       "#sk-container-id-1 div.sk-parallel-item {\n",
       "  display: flex;\n",
       "  flex-direction: column;\n",
       "}\n",
       "\n",
       "#sk-container-id-1 div.sk-parallel-item:first-child::after {\n",
       "  align-self: flex-end;\n",
       "  width: 50%;\n",
       "}\n",
       "\n",
       "#sk-container-id-1 div.sk-parallel-item:last-child::after {\n",
       "  align-self: flex-start;\n",
       "  width: 50%;\n",
       "}\n",
       "\n",
       "#sk-container-id-1 div.sk-parallel-item:only-child::after {\n",
       "  width: 0;\n",
       "}\n",
       "\n",
       "/* Serial-specific style estimator block */\n",
       "\n",
       "#sk-container-id-1 div.sk-serial {\n",
       "  display: flex;\n",
       "  flex-direction: column;\n",
       "  align-items: center;\n",
       "  background-color: var(--sklearn-color-background);\n",
       "  padding-right: 1em;\n",
       "  padding-left: 1em;\n",
       "}\n",
       "\n",
       "\n",
       "/* Toggleable style: style used for estimator/Pipeline/ColumnTransformer box that is\n",
       "clickable and can be expanded/collapsed.\n",
       "- Pipeline and ColumnTransformer use this feature and define the default style\n",
       "- Estimators will overwrite some part of the style using the `sk-estimator` class\n",
       "*/\n",
       "\n",
       "/* Pipeline and ColumnTransformer style (default) */\n",
       "\n",
       "#sk-container-id-1 div.sk-toggleable {\n",
       "  /* Default theme specific background. It is overwritten whether we have a\n",
       "  specific estimator or a Pipeline/ColumnTransformer */\n",
       "  background-color: var(--sklearn-color-background);\n",
       "}\n",
       "\n",
       "/* Toggleable label */\n",
       "#sk-container-id-1 label.sk-toggleable__label {\n",
       "  cursor: pointer;\n",
       "  display: flex;\n",
       "  width: 100%;\n",
       "  margin-bottom: 0;\n",
       "  padding: 0.5em;\n",
       "  box-sizing: border-box;\n",
       "  text-align: center;\n",
       "  align-items: start;\n",
       "  justify-content: space-between;\n",
       "  gap: 0.5em;\n",
       "}\n",
       "\n",
       "#sk-container-id-1 label.sk-toggleable__label .caption {\n",
       "  font-size: 0.6rem;\n",
       "  font-weight: lighter;\n",
       "  color: var(--sklearn-color-text-muted);\n",
       "}\n",
       "\n",
       "#sk-container-id-1 label.sk-toggleable__label-arrow:before {\n",
       "  /* Arrow on the left of the label */\n",
       "  content: \"▸\";\n",
       "  float: left;\n",
       "  margin-right: 0.25em;\n",
       "  color: var(--sklearn-color-icon);\n",
       "}\n",
       "\n",
       "#sk-container-id-1 label.sk-toggleable__label-arrow:hover:before {\n",
       "  color: var(--sklearn-color-text);\n",
       "}\n",
       "\n",
       "/* Toggleable content - dropdown */\n",
       "\n",
       "#sk-container-id-1 div.sk-toggleable__content {\n",
       "  max-height: 0;\n",
       "  max-width: 0;\n",
       "  overflow: hidden;\n",
       "  text-align: left;\n",
       "  /* unfitted */\n",
       "  background-color: var(--sklearn-color-unfitted-level-0);\n",
       "}\n",
       "\n",
       "#sk-container-id-1 div.sk-toggleable__content.fitted {\n",
       "  /* fitted */\n",
       "  background-color: var(--sklearn-color-fitted-level-0);\n",
       "}\n",
       "\n",
       "#sk-container-id-1 div.sk-toggleable__content pre {\n",
       "  margin: 0.2em;\n",
       "  border-radius: 0.25em;\n",
       "  color: var(--sklearn-color-text);\n",
       "  /* unfitted */\n",
       "  background-color: var(--sklearn-color-unfitted-level-0);\n",
       "}\n",
       "\n",
       "#sk-container-id-1 div.sk-toggleable__content.fitted pre {\n",
       "  /* unfitted */\n",
       "  background-color: var(--sklearn-color-fitted-level-0);\n",
       "}\n",
       "\n",
       "#sk-container-id-1 input.sk-toggleable__control:checked~div.sk-toggleable__content {\n",
       "  /* Expand drop-down */\n",
       "  max-height: 200px;\n",
       "  max-width: 100%;\n",
       "  overflow: auto;\n",
       "}\n",
       "\n",
       "#sk-container-id-1 input.sk-toggleable__control:checked~label.sk-toggleable__label-arrow:before {\n",
       "  content: \"▾\";\n",
       "}\n",
       "\n",
       "/* Pipeline/ColumnTransformer-specific style */\n",
       "\n",
       "#sk-container-id-1 div.sk-label input.sk-toggleable__control:checked~label.sk-toggleable__label {\n",
       "  color: var(--sklearn-color-text);\n",
       "  background-color: var(--sklearn-color-unfitted-level-2);\n",
       "}\n",
       "\n",
       "#sk-container-id-1 div.sk-label.fitted input.sk-toggleable__control:checked~label.sk-toggleable__label {\n",
       "  background-color: var(--sklearn-color-fitted-level-2);\n",
       "}\n",
       "\n",
       "/* Estimator-specific style */\n",
       "\n",
       "/* Colorize estimator box */\n",
       "#sk-container-id-1 div.sk-estimator input.sk-toggleable__control:checked~label.sk-toggleable__label {\n",
       "  /* unfitted */\n",
       "  background-color: var(--sklearn-color-unfitted-level-2);\n",
       "}\n",
       "\n",
       "#sk-container-id-1 div.sk-estimator.fitted input.sk-toggleable__control:checked~label.sk-toggleable__label {\n",
       "  /* fitted */\n",
       "  background-color: var(--sklearn-color-fitted-level-2);\n",
       "}\n",
       "\n",
       "#sk-container-id-1 div.sk-label label.sk-toggleable__label,\n",
       "#sk-container-id-1 div.sk-label label {\n",
       "  /* The background is the default theme color */\n",
       "  color: var(--sklearn-color-text-on-default-background);\n",
       "}\n",
       "\n",
       "/* On hover, darken the color of the background */\n",
       "#sk-container-id-1 div.sk-label:hover label.sk-toggleable__label {\n",
       "  color: var(--sklearn-color-text);\n",
       "  background-color: var(--sklearn-color-unfitted-level-2);\n",
       "}\n",
       "\n",
       "/* Label box, darken color on hover, fitted */\n",
       "#sk-container-id-1 div.sk-label.fitted:hover label.sk-toggleable__label.fitted {\n",
       "  color: var(--sklearn-color-text);\n",
       "  background-color: var(--sklearn-color-fitted-level-2);\n",
       "}\n",
       "\n",
       "/* Estimator label */\n",
       "\n",
       "#sk-container-id-1 div.sk-label label {\n",
       "  font-family: monospace;\n",
       "  font-weight: bold;\n",
       "  display: inline-block;\n",
       "  line-height: 1.2em;\n",
       "}\n",
       "\n",
       "#sk-container-id-1 div.sk-label-container {\n",
       "  text-align: center;\n",
       "}\n",
       "\n",
       "/* Estimator-specific */\n",
       "#sk-container-id-1 div.sk-estimator {\n",
       "  font-family: monospace;\n",
       "  border: 1px dotted var(--sklearn-color-border-box);\n",
       "  border-radius: 0.25em;\n",
       "  box-sizing: border-box;\n",
       "  margin-bottom: 0.5em;\n",
       "  /* unfitted */\n",
       "  background-color: var(--sklearn-color-unfitted-level-0);\n",
       "}\n",
       "\n",
       "#sk-container-id-1 div.sk-estimator.fitted {\n",
       "  /* fitted */\n",
       "  background-color: var(--sklearn-color-fitted-level-0);\n",
       "}\n",
       "\n",
       "/* on hover */\n",
       "#sk-container-id-1 div.sk-estimator:hover {\n",
       "  /* unfitted */\n",
       "  background-color: var(--sklearn-color-unfitted-level-2);\n",
       "}\n",
       "\n",
       "#sk-container-id-1 div.sk-estimator.fitted:hover {\n",
       "  /* fitted */\n",
       "  background-color: var(--sklearn-color-fitted-level-2);\n",
       "}\n",
       "\n",
       "/* Specification for estimator info (e.g. \"i\" and \"?\") */\n",
       "\n",
       "/* Common style for \"i\" and \"?\" */\n",
       "\n",
       ".sk-estimator-doc-link,\n",
       "a:link.sk-estimator-doc-link,\n",
       "a:visited.sk-estimator-doc-link {\n",
       "  float: right;\n",
       "  font-size: smaller;\n",
       "  line-height: 1em;\n",
       "  font-family: monospace;\n",
       "  background-color: var(--sklearn-color-background);\n",
       "  border-radius: 1em;\n",
       "  height: 1em;\n",
       "  width: 1em;\n",
       "  text-decoration: none !important;\n",
       "  margin-left: 0.5em;\n",
       "  text-align: center;\n",
       "  /* unfitted */\n",
       "  border: var(--sklearn-color-unfitted-level-1) 1pt solid;\n",
       "  color: var(--sklearn-color-unfitted-level-1);\n",
       "}\n",
       "\n",
       ".sk-estimator-doc-link.fitted,\n",
       "a:link.sk-estimator-doc-link.fitted,\n",
       "a:visited.sk-estimator-doc-link.fitted {\n",
       "  /* fitted */\n",
       "  border: var(--sklearn-color-fitted-level-1) 1pt solid;\n",
       "  color: var(--sklearn-color-fitted-level-1);\n",
       "}\n",
       "\n",
       "/* On hover */\n",
       "div.sk-estimator:hover .sk-estimator-doc-link:hover,\n",
       ".sk-estimator-doc-link:hover,\n",
       "div.sk-label-container:hover .sk-estimator-doc-link:hover,\n",
       ".sk-estimator-doc-link:hover {\n",
       "  /* unfitted */\n",
       "  background-color: var(--sklearn-color-unfitted-level-3);\n",
       "  color: var(--sklearn-color-background);\n",
       "  text-decoration: none;\n",
       "}\n",
       "\n",
       "div.sk-estimator.fitted:hover .sk-estimator-doc-link.fitted:hover,\n",
       ".sk-estimator-doc-link.fitted:hover,\n",
       "div.sk-label-container:hover .sk-estimator-doc-link.fitted:hover,\n",
       ".sk-estimator-doc-link.fitted:hover {\n",
       "  /* fitted */\n",
       "  background-color: var(--sklearn-color-fitted-level-3);\n",
       "  color: var(--sklearn-color-background);\n",
       "  text-decoration: none;\n",
       "}\n",
       "\n",
       "/* Span, style for the box shown on hovering the info icon */\n",
       ".sk-estimator-doc-link span {\n",
       "  display: none;\n",
       "  z-index: 9999;\n",
       "  position: relative;\n",
       "  font-weight: normal;\n",
       "  right: .2ex;\n",
       "  padding: .5ex;\n",
       "  margin: .5ex;\n",
       "  width: min-content;\n",
       "  min-width: 20ex;\n",
       "  max-width: 50ex;\n",
       "  color: var(--sklearn-color-text);\n",
       "  box-shadow: 2pt 2pt 4pt #999;\n",
       "  /* unfitted */\n",
       "  background: var(--sklearn-color-unfitted-level-0);\n",
       "  border: .5pt solid var(--sklearn-color-unfitted-level-3);\n",
       "}\n",
       "\n",
       ".sk-estimator-doc-link.fitted span {\n",
       "  /* fitted */\n",
       "  background: var(--sklearn-color-fitted-level-0);\n",
       "  border: var(--sklearn-color-fitted-level-3);\n",
       "}\n",
       "\n",
       ".sk-estimator-doc-link:hover span {\n",
       "  display: block;\n",
       "}\n",
       "\n",
       "/* \"?\"-specific style due to the `<a>` HTML tag */\n",
       "\n",
       "#sk-container-id-1 a.estimator_doc_link {\n",
       "  float: right;\n",
       "  font-size: 1rem;\n",
       "  line-height: 1em;\n",
       "  font-family: monospace;\n",
       "  background-color: var(--sklearn-color-background);\n",
       "  border-radius: 1rem;\n",
       "  height: 1rem;\n",
       "  width: 1rem;\n",
       "  text-decoration: none;\n",
       "  /* unfitted */\n",
       "  color: var(--sklearn-color-unfitted-level-1);\n",
       "  border: var(--sklearn-color-unfitted-level-1) 1pt solid;\n",
       "}\n",
       "\n",
       "#sk-container-id-1 a.estimator_doc_link.fitted {\n",
       "  /* fitted */\n",
       "  border: var(--sklearn-color-fitted-level-1) 1pt solid;\n",
       "  color: var(--sklearn-color-fitted-level-1);\n",
       "}\n",
       "\n",
       "/* On hover */\n",
       "#sk-container-id-1 a.estimator_doc_link:hover {\n",
       "  /* unfitted */\n",
       "  background-color: var(--sklearn-color-unfitted-level-3);\n",
       "  color: var(--sklearn-color-background);\n",
       "  text-decoration: none;\n",
       "}\n",
       "\n",
       "#sk-container-id-1 a.estimator_doc_link.fitted:hover {\n",
       "  /* fitted */\n",
       "  background-color: var(--sklearn-color-fitted-level-3);\n",
       "}\n",
       "</style><div id=\"sk-container-id-1\" class=\"sk-top-container\"><div class=\"sk-text-repr-fallback\"><pre>NearestNeighbors(n_neighbors=10)</pre><b>In a Jupyter environment, please rerun this cell to show the HTML representation or trust the notebook. <br />On GitHub, the HTML representation is unable to render, please try loading this page with nbviewer.org.</b></div><div class=\"sk-container\" hidden><div class=\"sk-item\"><div class=\"sk-estimator fitted sk-toggleable\"><input class=\"sk-toggleable__control sk-hidden--visually\" id=\"sk-estimator-id-1\" type=\"checkbox\" checked><label for=\"sk-estimator-id-1\" class=\"sk-toggleable__label fitted sk-toggleable__label-arrow\"><div><div>NearestNeighbors</div></div><div><a class=\"sk-estimator-doc-link fitted\" rel=\"noreferrer\" target=\"_blank\" href=\"https://scikit-learn.org/1.6/modules/generated/sklearn.neighbors.NearestNeighbors.html\">?<span>Documentation for NearestNeighbors</span></a><span class=\"sk-estimator-doc-link fitted\">i<span>Fitted</span></span></div></label><div class=\"sk-toggleable__content fitted\"><pre>NearestNeighbors(n_neighbors=10)</pre></div> </div></div></div></div>"
      ],
      "text/plain": [
       "NearestNeighbors(n_neighbors=10)"
      ]
     },
     "execution_count": 14,
     "metadata": {},
     "output_type": "execute_result"
    }
   ],
   "source": [
    "model = NearestNeighbors(n_neighbors=10, algorithm='auto')\n",
    "model.fit(features_scaled)"
   ]
  },
  {
   "cell_type": "markdown",
   "id": "bc07109b6073c111",
   "metadata": {},
   "source": [
    "function define"
   ]
  },
  {
   "cell_type": "code",
   "execution_count": 15,
   "id": "e1dfeace769ce003",
   "metadata": {
    "ExecuteTime": {
     "end_time": "2024-10-24T15:18:53.978539Z",
     "start_time": "2024-10-24T15:18:53.972702Z"
    }
   },
   "outputs": [],
   "source": [
    "def recommended(input_title,  model = model, data=data, n_sample = 5):\n",
    "    product_info = data.loc[data[\"title_fa\"]== input_title]\n",
    "    if product_info.empty:\n",
    "            print(f\"محصول با عنوان {input_title} پیدا نشد.\")\n",
    "            return pd.DataFrame()    \n",
    "    input_features = product_info[[\"Category1_encoded\", \"Category2_encoded\", \"Price\", \"Rate\"]]\n",
    "    \n",
    "    input_features_scaled = scaler.transform(input_features)\n",
    "    \n",
    "    distances, indices = model.kneighbors(input_features_scaled)\n",
    "    similar_products = data.iloc[indices[0]]\n",
    "    \n",
    "    if len(similar_products) > n_sample:\n",
    "        similar_products = similar_products.sample(n=n_sample, random_state=np.random.randint(1000))\n",
    "    similar_products = similar_products[similar_products['title_fa'] != input_title]\n",
    "    return similar_products"
   ]
  },
  {
   "cell_type": "code",
   "execution_count": 17,
   "id": "8eaf4f7823e7d21",
   "metadata": {
    "ExecuteTime": {
     "end_time": "2024-10-24T16:41:03.353752Z",
     "start_time": "2024-10-24T16:41:03.331348Z"
    }
   },
   "outputs": [],
   "source": [
    "def user_recommendations():\n",
    "    # Load data\n",
    "    import pandas as pd\n",
    "    data2 = pd.read_excel(\"//workspaces//Digikala_Recommended_System//keifiat.xlsx\")\n",
    "    pd.set_option('display.max_columns', None)\n",
    "\n",
    "    data2['user_id'] = data2['user_id'].astype(str)\n",
    "    data2['product_id'] = data2['product_id'].astype(str)\n",
    "    data2['user_id'] = data2['user_id'].str.strip()\n",
    "    data2['product_id'] = data2['product_id'].str.strip()\n",
    "\n",
    "    # Handle missing values\n",
    "    data2.dropna(subset=['user_id', 'product_id', 'title_en', 'recommend'], inplace=True)\n",
    "    data2 = data2[data2['recommend'] != '\\\\N']\n",
    "    data2 = data2[data2['recommend'] != 'no_idea']\n",
    "\n",
    "    # Encode 'user_id', 'product_id', and 'title_en'\n",
    "    label_encoder_user = LabelEncoder()\n",
    "    label_encoder_product = LabelEncoder()\n",
    "    label_encoder_recommend = LabelEncoder()\n",
    "    label_encoder_title_en = LabelEncoder()\n",
    "\n",
    "    data2['user_id_encoded'] = label_encoder_user.fit_transform(data2['user_id'])\n",
    "    data2['product_id_encoded'] = label_encoder_product.fit_transform(data2['product_id'])\n",
    "    data2['recommend_encoded'] = label_encoder_recommend.fit_transform(data2['recommend'])\n",
    "    data2['title_en_encoded'] = label_encoder_title_en.fit_transform(data2['title_en'])\n",
    "\n",
    "    # Define features and target variable\n",
    "    features = data2[['user_id_encoded', 'product_id_encoded', 'title_en_encoded']]\n",
    "    target = data2['recommend_encoded']\n",
    "    # scaler = StandardScaler()  if use MLP do scaler but not for Random forest\n",
    "    # features = scaler.fit_transform(features)\n",
    "    # Split data into training and test sets\n",
    "    X_train, X_test, y_train, y_test = train_test_split(features, target, test_size=0.1, random_state=42)\n",
    "    # print(data2.to_string())\n",
    "    \"\"\"\n",
    "    # Define parameter grids for models\n",
    "    param_grid_rf = {\n",
    "        'n_estimators': [80, 200, 300],\n",
    "        'max_features': [2, 3],\n",
    "        'min_samples_split': [2, 3, 4],\n",
    "        'class_weight': ['balanced']\n",
    "    }\n",
    "\n",
    "    param_grid_dt = {\n",
    "        'max_features': [2, 3],\n",
    "        'min_samples_split': [2, 3, 4],\n",
    "        'class_weight': ['balanced']\n",
    "    }\n",
    "\n",
    "    param_grid_svc = {\n",
    "        'C': [0.1, 1, 10],\n",
    "        'kernel': ['linear', 'rbf']\n",
    "    }\"\"\"\n",
    "    # Create and train Random Forest model\n",
    "    rf_model = RandomForestClassifier(max_features=3, min_samples_split=2,random_state=42 ,class_weight=\"balanced\",min_samples_leaf=20, n_estimators=150)\n",
    "    rf_model.fit(X_train, y_train)\n",
    "    # \n",
    "    # from imblearn.over_sampling import SMOTE\n",
    "    # \n",
    "    # # توازن داده‌ها با SMOTE\n",
    "    # smote = SMOTE(random_state=42)\n",
    "    # X_train_resampled, y_train_resampled = smote.fit_resample(X_train, y_train)\n",
    "    # \n",
    "    # mlp_model = MLPClassifier(hidden_layer_sizes=(16,16,16), max_iter=10000)\n",
    "    # mlp_model.fit(X_train_resampled, y_train_resampled)\n",
    "   \n",
    "\n",
    "\n",
    "    # Evaluate model\n",
    "    y_pred = rf_model.predict(X_test)\n",
    "    # y_pred_mlp = mlp_model.predict(X_test)\n",
    "  \n",
    "    print(\"-------------------------------------\",y_pred)\n",
    "    f1_rf = f1_score(y_test, y_pred)\n",
    "    # f1_mlp = f1_score(y_test, y_pred_mlp)\n",
    "\n",
    "\n",
    "    print(f1_rf)\n",
    "    # print(f1_mlp)\n",
    "    \n",
    "    print(classification_report(y_test, y_pred))\n",
    "    # print(classification_report(y_test, y_pred_mlp))\n",
    "\n",
    "    # print(data2[['user_id', 'user_id_encoded', 'product_id', 'product_id_encoded','title_en', 'title_en_encoded', 'recommend',\n",
    "    #              'recommend_encoded']].head(10))\n",
    "    # Predict for new products\n",
    "    user_id = input(\"لطفا شناسه کاربری خود را وارد کنید: \")\n",
    "    product_id = input(\"لطفا شناسه محصول را وارد کنید: \")\n",
    "\n",
    "    # Check if user_id and product_id exist in the data\n",
    "    if user_id not in data2['user_id'].values:\n",
    "        raise ValueError(f\"شناسه کاربر {user_id} یافت نشد.\")\n",
    "    if product_id not in data2['product_id'].values:\n",
    "        raise ValueError(f\"شناسه محصول {product_id} یافت نشد.\")\n",
    "\n",
    "    # Encode the new user_id and product_id\n",
    "    user_id_encoded = label_encoder_user.transform([user_id])\n",
    "    product_id_encoded = label_encoder_product.transform([product_id])\n",
    "\n",
    "    # Get the title_en_encoded for the specific product (assumed to be the first match)\n",
    "    title_en_encoded = data2.loc[(data2['product_id'] == product_id) , 'title_en_encoded'].values[0]\n",
    "\n",
    "    # Create new DataFrame for prediction\n",
    " # Create new DataFrame for prediction\n",
    "    new_data = pd.DataFrame({\n",
    "        'user_id_encoded': user_id_encoded,\n",
    "        'product_id_encoded': product_id_encoded,\n",
    "        'title_en_encoded': [title_en_encoded]\n",
    "    })\n",
    "\n",
    "# Transform new data to ensure it is a DataFrame\n",
    "\n",
    "    # new_data = new_data.values\n",
    "\n",
    "    # Predict recommendation\n",
    "    # new_data_scaled = scaler.transform(new_data)  if use mlp\n",
    "    \n",
    "    recommendation_prediction =rf_model.predict(new_data)\n",
    "    \n",
    "    recommendation_label = label_encoder_recommend.inverse_transform(recommendation_prediction)\n",
    "\n",
    "    print(new_data)\n",
    "    print(f\"توصیه برای محصول {product_id} به کاربر {user_id}: {recommendation_label[0]}\")\n",
    "   \n"
   ]
  },
  {
   "cell_type": "code",
   "execution_count": 28,
   "id": "936769e0b1100af7",
   "metadata": {
    "ExecuteTime": {
     "end_time": "2024-10-24T15:22:13.766903Z",
     "start_time": "2024-10-24T15:22:13.762906Z"
    }
   },
   "outputs": [],
   "source": []
  },
  {
   "cell_type": "code",
   "execution_count": 25,
   "id": "3a72a01fad62da6",
   "metadata": {
    "ExecuteTime": {
     "end_time": "2024-10-24T16:52:34.218849Z",
     "start_time": "2024-10-24T16:51:20.897407Z"
    }
   },
   "outputs": [
    {
     "name": "stdout",
     "output_type": "stream",
     "text": [
      "------------------------------------- [1 1 0 ... 1 1 1]\n",
      "0.704337899543379\n",
      "              precision    recall  f1-score   support\n",
      "\n",
      "           0       0.39      0.47      0.43      1636\n",
      "           1       0.74      0.67      0.70      3673\n",
      "\n",
      "    accuracy                           0.61      5309\n",
      "   macro avg       0.56      0.57      0.57      5309\n",
      "weighted avg       0.63      0.61      0.62      5309\n",
      "\n",
      "   user_id_encoded  product_id_encoded  title_en_encoded\n",
      "0             1944               29097                14\n",
      "توصیه برای محصول 80708 به کاربر 1289964: recommended\n"
     ]
    }
   ],
   "source": [
    "user_recommendations()\n",
    "\n"
   ]
  },
  {
   "cell_type": "code",
   "execution_count": 19,
   "id": "26e8a67497fcc605",
   "metadata": {
    "ExecuteTime": {
     "end_time": "2024-10-24T15:19:57.516587Z",
     "start_time": "2024-10-24T15:19:54.819587Z"
    }
   },
   "outputs": [],
   "source": [
    "input_title = input(\"عنوان محصول خود را وارد کنید: \")\n",
    "output = recommended(input_title)\n"
   ]
  },
  {
   "cell_type": "code",
   "execution_count": 24,
   "id": "f80b9a34384c749f",
   "metadata": {
    "ExecuteTime": {
     "end_time": "2024-10-24T15:19:57.526976Z",
     "start_time": "2024-10-24T15:19:57.517588Z"
    }
   },
   "outputs": [
    {
     "name": "stdout",
     "output_type": "stream",
     "text": [
      "\n",
      "محصولات پیشنهادی بر اساس 'عینک آفتابی مدل C125c2':\n",
      "                                       title_fa   Brand      Price  \\\n",
      "105                 عینک آفتابی میباخ مدل MYC33   میباخ  5500000.0   \n",
      "96                 عینک آفتابی مدل XH3332 - فشن  متفرقه  5490000.0   \n",
      "0              عینک آفتابی مدل 3548 - Fnok شیشه  متفرقه  5500000.0   \n",
      "108    عینک آفتابی مدل ML6026 Tawny Transparent  متفرقه  5450000.0   \n",
      "127  عینک آفتابی مدل ML6012 Transparent Apricot  متفرقه  5450000.0   \n",
      "\n",
      "                  Category1  \n",
      "105  اکسسوری زنانه و مردانه  \n",
      "96   اکسسوری زنانه و مردانه  \n",
      "0    اکسسوری زنانه و مردانه  \n",
      "108  اکسسوری زنانه و مردانه  \n",
      "127  اکسسوری زنانه و مردانه  \n"
     ]
    }
   ],
   "source": [
    "if not output.empty:\n",
    "    print(f\"\\nمحصولات پیشنهادی بر اساس '{input_title}':\")\n",
    "    print(output[['title_fa', 'Brand', 'Price', 'Category1']])\n",
    "else:\n",
    "    print(\"هیچ توصیه‌ای برای نمایش وجود ندارد.\")\n",
    "\n"
   ]
  }
 ],
 "metadata": {
  "kernelspec": {
   "display_name": "Python 3",
   "language": "python",
   "name": "python3"
  },
  "language_info": {
   "codemirror_mode": {
    "name": "ipython",
    "version": 3
   },
   "file_extension": ".py",
   "mimetype": "text/x-python",
   "name": "python",
   "nbconvert_exporter": "python",
   "pygments_lexer": "ipython3",
   "version": "3.12.1"
  }
 },
 "nbformat": 4,
 "nbformat_minor": 5
}
